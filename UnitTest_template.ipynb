{
 "cells": [
  {
   "cell_type": "markdown",
   "metadata": {},
   "source": [
    "# Unit Test templates for\n",
    "\n",
    "## Nose and PyTest\n",
    "\n",
    "Create templates for the Nose test runner and the PyTest unit test suite"
   ]
  },
  {
   "cell_type": "code",
   "execution_count": 39,
   "metadata": {
    "collapsed": true
   },
   "outputs": [],
   "source": [
    "def add_two_numbers(num1, num2):\n",
    "    return num1 + num2"
   ]
  },
  {
   "cell_type": "code",
   "execution_count": 37,
   "metadata": {
    "collapsed": false
   },
   "outputs": [
    {
     "name": "stdout",
     "output_type": "stream",
     "text": [
      "ALL nose TEST CASES PASSED\n"
     ]
    }
   ],
   "source": [
    "from nose.tools import assert_equal\n",
    "\n",
    "class FunctionTest(object):\n",
    "    \n",
    "    def test(self, func):\n",
    "        assert_equal(func(2, 2), 4)\n",
    "        assert_equal(func(4, 8), 12)\n",
    "        \n",
    "        print('ALL nose TEST CASES PASSED')\n",
    "\n",
    "# Run tests\n",
    "t = FunctionTest()\n",
    "t.test(add_two_numbers)"
   ]
  },
  {
   "cell_type": "code",
   "execution_count": 38,
   "metadata": {
    "collapsed": false
   },
   "outputs": [
    {
     "name": "stdout",
     "output_type": "stream",
     "text": [
      "ALL pytest TEST CASES PASSED\n"
     ]
    }
   ],
   "source": [
    "import pytest\n",
    "\n",
    "def TEST_add_two_numbers():\n",
    "    assert add_two_numbers(3, 3) == 6\n",
    "    assert add_two_numbers(5, 10) == 15\n",
    "    assert add_two_numbers(5., 10) == 15.\n",
    "    \n",
    "    print('ALL pytest TEST CASES PASSED')\n",
    "    \n",
    "TEST_add_two_numbers()"
   ]
  },
  {
   "cell_type": "code",
   "execution_count": 41,
   "metadata": {
    "collapsed": false
   },
   "outputs": [
    {
     "data": {
      "text/plain": [
       "'3.0.5'"
      ]
     },
     "execution_count": 41,
     "metadata": {},
     "output_type": "execute_result"
    }
   ],
   "source": [
    "pytest.__version__"
   ]
  },
  {
   "cell_type": "code",
   "execution_count": null,
   "metadata": {
    "collapsed": true
   },
   "outputs": [],
   "source": []
  }
 ],
 "metadata": {
  "kernelspec": {
   "display_name": "Python [Root]",
   "language": "python",
   "name": "Python [Root]"
  },
  "language_info": {
   "codemirror_mode": {
    "name": "ipython",
    "version": 3
   },
   "file_extension": ".py",
   "mimetype": "text/x-python",
   "name": "python",
   "nbconvert_exporter": "python",
   "pygments_lexer": "ipython3",
   "version": "3.5.2"
  }
 },
 "nbformat": 4,
 "nbformat_minor": 2
}
